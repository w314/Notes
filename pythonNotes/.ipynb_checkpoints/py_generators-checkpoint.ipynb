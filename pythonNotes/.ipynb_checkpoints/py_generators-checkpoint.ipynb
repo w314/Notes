{
 "cells": [
  {
   "cell_type": "markdown",
   "metadata": {},
   "source": [
    "## Python Generators\n",
    "\n",
    "A generator in Python is similar to a function except instead of returning a value and exiting a process, a generator will pause the process, saving its state for next time. The biggest difference between a function and generator from a code perspective is one word: `return` is changed to `yield`.\n",
    "\n",
    "A generator becomes very useful when dealing with very large collections of data that you don’t want to store in memory all at once. It’s also very useful for dealing with extremely large or even infinite series.\n",
    "\n",
    "Below is an example of how to use a generator to print even numbers. Printing all even numbers at once would take an infinite amount of time, but the generator allows the process to pause, and go back to creating even numbers when needed.\n",
    "\n",
    "To create the next successive even number simply call `next()` on the generator object, and it will yield the next iteration. After `yield` is called, everything in the state of the generator function freezes, and the value is returned. When the generator is called again with `next()`, it picks back up right where it stopped at `yield` from before.\n",
    "\n"
   ]
  },
  {
   "cell_type": "code",
   "execution_count": 3,
   "metadata": {},
   "outputs": [
    {
     "name": "stdout",
     "output_type": "stream",
     "text": [
      "0\n",
      "2\n",
      "4\n",
      "7\n",
      "6\n",
      "8\n",
      "10\n"
     ]
    }
   ],
   "source": [
    "# Definition of the generator to produce even numbers.\n",
    "def all_even():\n",
    "    n = 0\n",
    "    while True:\n",
    "        yield n\n",
    "        n += 2\n",
    "    \n",
    "my_generator = all_even()\n",
    "\n",
    "# Generate the first 3 even numbers.\n",
    "for i in range(3):\n",
    "    print(next(my_generator))\n",
    "\n",
    "# Now go and do some other processing.\n",
    "do_something = 4\n",
    "do_something += 3\n",
    "print(do_something)\n",
    "\n",
    "# Generating the next 3 even numbers.\n",
    "for i in range(3):\n",
    "    print(next(my_generator))"
   ]
  }
 ],
 "metadata": {
  "kernelspec": {
   "display_name": "Python 3",
   "language": "python",
   "name": "python3"
  },
  "language_info": {
   "codemirror_mode": {
    "name": "ipython",
    "version": 3
   },
   "file_extension": ".py",
   "mimetype": "text/x-python",
   "name": "python",
   "nbconvert_exporter": "python",
   "pygments_lexer": "ipython3",
   "version": "3.8.5"
  }
 },
 "nbformat": 4,
 "nbformat_minor": 4
}
