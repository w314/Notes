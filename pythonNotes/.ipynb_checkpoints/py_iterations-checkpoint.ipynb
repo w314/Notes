{
 "cells": [
  {
   "cell_type": "markdown",
   "metadata": {},
   "source": [
    "## Control Structures"
   ]
  },
  {
   "cell_type": "markdown",
   "metadata": {},
   "source": [
    "## Iterations"
   ]
  },
  {
   "cell_type": "markdown",
   "metadata": {},
   "source": [
    "### For Loops"
   ]
  },
  {
   "cell_type": "code",
   "execution_count": 6,
   "metadata": {},
   "outputs": [
    {
     "name": "stdout",
     "output_type": "stream",
     "text": [
      "Printing the value of each list item:\n",
      "The value of the item is: 2\n",
      "The value of the item is: 4\n",
      "The value of the item is: 6\n",
      "\n",
      "Printing the index and the value of each list item:\n",
      "The index of the item is: 0\tThe value of the item is: 2\n",
      "The index of the item is: 1\tThe value of the item is: 4\n",
      "The index of the item is: 2\tThe value of the item is: 6\n"
     ]
    }
   ],
   "source": [
    "my_list = [2,4,6]\n",
    "\n",
    "print(\"Printing the value of each list item:\")\n",
    "for item in my_list:\n",
    "    print(f\"The value of the item is: {item}\")\n",
    "    \n",
    "print(\"\")    \n",
    "print(\"Printing the index and the value of each list item:\")    \n",
    "for i, value in enumerate(my_list):\n",
    "    print(f\"The index of the item is: {i}\\tThe value of the item is: {value}\")"
   ]
  },
  {
   "cell_type": "markdown",
   "metadata": {},
   "source": [
    "### While Loops"
   ]
  },
  {
   "cell_type": "code",
   "execution_count": null,
   "metadata": {},
   "outputs": [],
   "source": [
    "my_list = [1, 2, 3]\n",
    "i = 0\n",
    "while i < 3:\n",
    "    print(my_list[i])\n",
    "    i += 1"
   ]
  }
 ],
 "metadata": {
  "kernelspec": {
   "display_name": "Python 3",
   "language": "python",
   "name": "python3"
  },
  "language_info": {
   "codemirror_mode": {
    "name": "ipython",
    "version": 3
   },
   "file_extension": ".py",
   "mimetype": "text/x-python",
   "name": "python",
   "nbconvert_exporter": "python",
   "pygments_lexer": "ipython3",
   "version": "3.8.5"
  }
 },
 "nbformat": 4,
 "nbformat_minor": 4
}
